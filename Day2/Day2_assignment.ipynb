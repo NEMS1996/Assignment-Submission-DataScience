{
 "cells": [
  {
   "cell_type": "markdown",
   "metadata": {},
   "source": [
    "# Question 1"
   ]
  },
  {
   "cell_type": "code",
   "execution_count": 12,
   "metadata": {},
   "outputs": [
    {
     "name": "stdout",
     "output_type": "stream",
     "text": [
      "135\n",
      "1000\n",
      "4256\n",
      "12\n",
      "368\n",
      "8\n",
      "94\n",
      "77\n",
      "98\n",
      "50\n",
      "[1000, 4256, 12, 368, 8, 94, 98, 50]\n"
     ]
    }
   ],
   "source": [
    "a=[]\n",
    "for i in range(0,10):\n",
    "    n=int(input())\n",
    "    i+=1\n",
    "    if n%2 == 0:\n",
    "        a.append(n)\n",
    "print (a)"
   ]
  },
  {
   "cell_type": "markdown",
   "metadata": {},
   "source": [
    "# Question 3"
   ]
  },
  {
   "cell_type": "code",
   "execution_count": 11,
   "metadata": {},
   "outputs": [
    {
     "name": "stdout",
     "output_type": "stream",
     "text": [
      "6\n",
      "{1: 1, 2: 4, 3: 9, 4: 16, 5: 25, 6: 36}\n"
     ]
    }
   ],
   "source": [
    "d={}\n",
    "n=int(input())\n",
    "i=1\n",
    "while i<=n:\n",
    "    d[i]=pow(i,2)\n",
    "    i=i+1\n",
    "print (d)"
   ]
  },
  {
   "cell_type": "markdown",
   "metadata": {},
   "source": [
    "# Question 4"
   ]
  },
  {
   "cell_type": "code",
   "execution_count": 10,
   "metadata": {},
   "outputs": [
    {
     "name": "stdout",
     "output_type": "stream",
     "text": [
      "4\n",
      "UP 4\n",
      "DOWN 6\n",
      "LEFT 7\n",
      "RIGHT 3\n",
      "4\n"
     ]
    }
   ],
   "source": [
    "x=0\n",
    "y=0\n",
    "n=int(input())\n",
    "for i in range(n):\n",
    "    movement=input().split(' ')\n",
    "    if movement[0] == \"UP\":\n",
    "        y = y+int(movement[1])\n",
    "    elif movement[0] == \"DOWN\":\n",
    "        y = y-int(movement[1])\n",
    "    elif movement[0] == \"LEFT\":\n",
    "        x = x-int(movement[1])\n",
    "    elif movement[0] == \"RIGHT\":\n",
    "        x = x+int(movement[1])\n",
    "distance = pow((pow(x,2)+pow(y,2)),0.5)\n",
    "print(round(distance))"
   ]
  },
  {
   "cell_type": "code",
   "execution_count": null,
   "metadata": {},
   "outputs": [],
   "source": []
  }
 ],
 "metadata": {
  "kernelspec": {
   "display_name": "Python 3",
   "language": "python",
   "name": "python3"
  },
  "language_info": {
   "codemirror_mode": {
    "name": "ipython",
    "version": 3
   },
   "file_extension": ".py",
   "mimetype": "text/x-python",
   "name": "python",
   "nbconvert_exporter": "python",
   "pygments_lexer": "ipython3",
   "version": "3.8.3"
  }
 },
 "nbformat": 4,
 "nbformat_minor": 4
}
