{
 "cells": [
  {
   "cell_type": "markdown",
   "metadata": {},
   "source": [
    "# Question 1"
   ]
  },
  {
   "cell_type": "code",
   "execution_count": 17,
   "metadata": {},
   "outputs": [
    {
     "name": "stdout",
     "output_type": "stream",
     "text": [
      "[ 2  5  8 11 14 17 20 23 26 29 32 35 38 41 44 47 50]\n"
     ]
    }
   ],
   "source": [
    "import numpy as np\n",
    "arr=np.array(range(2,51,3))\n",
    "print(arr)"
   ]
  },
  {
   "cell_type": "markdown",
   "metadata": {},
   "source": [
    "# Question 2"
   ]
  },
  {
   "cell_type": "code",
   "execution_count": 43,
   "metadata": {},
   "outputs": [
    {
     "name": "stdout",
     "output_type": "stream",
     "text": [
      "Enter list_1 elements\n",
      "187\n",
      "65\n",
      "10\n",
      "378\n",
      "9056\n",
      "Enter list_2 elements\n",
      "0\n",
      "194\n",
      "367\n",
      "850\n",
      "30\n",
      "Concatenated array: [ 187   65   10  378 9056    0  194  367  850   30]\n",
      "Sorted array: [   0   10   30   65  187  194  367  378  850 9056]\n"
     ]
    }
   ],
   "source": [
    "import numpy as np\n",
    "list_1=[]\n",
    "list_2=[]\n",
    "a=0\n",
    "b=0\n",
    "print(\"Enter list_1 elements\")\n",
    "while a<5:\n",
    "    ip=int(input())\n",
    "    list_1.append(ip)\n",
    "    a=a+1\n",
    "print(\"Enter list_2 elements\")\n",
    "while b<5:\n",
    "    ip1=int(input())\n",
    "    list_2.append(ip1)\n",
    "    b=b+1\n",
    "\n",
    "array_1=np.array(list_1)\n",
    "array_2=np.array(list_2)\n",
    "print(\"Concatenated array:\",np.concatenate((array_1,array_2)))\n",
    "print(\"Sorted array:\",np.sort(np.concatenate((array_1,array_2))))"
   ]
  },
  {
   "cell_type": "markdown",
   "metadata": {},
   "source": [
    "# Question 3"
   ]
  },
  {
   "cell_type": "code",
   "execution_count": 47,
   "metadata": {},
   "outputs": [
    {
     "name": "stdout",
     "output_type": "stream",
     "text": [
      "2\n",
      "6\n"
     ]
    }
   ],
   "source": [
    "import numpy as np\n",
    "arr=np.array([[4,5,6],[1,9,8]])\n",
    "print(arr.ndim)\n",
    "print(arr.size)"
   ]
  },
  {
   "cell_type": "markdown",
   "metadata": {},
   "source": [
    "# Question 4"
   ]
  },
  {
   "cell_type": "code",
   "execution_count": 51,
   "metadata": {},
   "outputs": [
    {
     "name": "stdout",
     "output_type": "stream",
     "text": [
      "[0 1 2 3 4]\n",
      "1\n",
      "[[0 1 2 3 4]]\n",
      "2\n"
     ]
    }
   ],
   "source": [
    "import numpy as np\n",
    "arr=np.arange(0,5)\n",
    "print(arr)\n",
    "print(arr.ndim)\n",
    "new_arr = arr[np.newaxis, :]\n",
    "print(new_arr)\n",
    "print(new_arr.ndim)"
   ]
  },
  {
   "cell_type": "markdown",
   "metadata": {},
   "source": [
    "# Question 5"
   ]
  },
  {
   "cell_type": "code",
   "execution_count": 65,
   "metadata": {},
   "outputs": [
    {
     "name": "stdout",
     "output_type": "stream",
     "text": [
      "Vertical Stack\n",
      " [[ 1  2  3]\n",
      " [ 4  5  6]\n",
      " [ 7  8  9]\n",
      " [10 11 12]\n",
      " [13 14 15]\n",
      " [16 17 18]]\n",
      "Horizantal Stack\n",
      " [[ 1  2  3 10 11 12]\n",
      " [ 4  5  6 13 14 15]\n",
      " [ 7  8  9 16 17 18]]\n"
     ]
    }
   ],
   "source": [
    "import numpy as np\n",
    "arr1=np.array([[1,2,3],[4,5,6],[7,8,9]])\n",
    "arr2=np.array([[10,11,12],[13,14,15],[16,17,18]])\n",
    "print(\"Vertical Stack\\n\",np.vstack((arr1,arr2)))\n",
    "print(\"Horizantal Stack\\n\",np.hstack((arr1,arr2)))"
   ]
  },
  {
   "cell_type": "markdown",
   "metadata": {},
   "source": [
    "# Question 6"
   ]
  },
  {
   "cell_type": "code",
   "execution_count": 66,
   "metadata": {},
   "outputs": [
    {
     "name": "stdout",
     "output_type": "stream",
     "text": [
      "[ 0  1  4  6  7  9 14 23 30 31 32 49 54 88] \n",
      " 14\n"
     ]
    }
   ],
   "source": [
    "import numpy as np\n",
    "arr =np.array([9,1,1,0,54,30,4,6,30,7,88,14,6,4,0,9,49,23,49,31,32])\n",
    "print(np.unique(arr),\"\\n\",np.size(np.unique(arr)))"
   ]
  },
  {
   "cell_type": "code",
   "execution_count": null,
   "metadata": {},
   "outputs": [],
   "source": []
  }
 ],
 "metadata": {
  "kernelspec": {
   "display_name": "Python 3",
   "language": "python",
   "name": "python3"
  },
  "language_info": {
   "codemirror_mode": {
    "name": "ipython",
    "version": 3
   },
   "file_extension": ".py",
   "mimetype": "text/x-python",
   "name": "python",
   "nbconvert_exporter": "python",
   "pygments_lexer": "ipython3",
   "version": "3.8.3"
  }
 },
 "nbformat": 4,
 "nbformat_minor": 4
}
